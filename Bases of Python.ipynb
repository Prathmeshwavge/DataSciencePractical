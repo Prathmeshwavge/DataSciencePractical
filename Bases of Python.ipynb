{
 "cells": [
  {
   "cell_type": "code",
   "execution_count": 1,
   "id": "b1118d04-69b0-4ea2-b5e4-f2784fdf9e48",
   "metadata": {},
   "outputs": [
    {
     "name": "stdout",
     "output_type": "stream",
     "text": [
      "Prathmesh S. Wavge\n"
     ]
    }
   ],
   "source": [
    "print(\"Prathmesh S. Wavge\")"
   ]
  },
  {
   "cell_type": "code",
   "execution_count": 2,
   "id": "f1b266d8-13b2-41aa-a0a1-13b004f51d98",
   "metadata": {},
   "outputs": [],
   "source": [
    "a=\"Prathmesh Wavge\""
   ]
  },
  {
   "cell_type": "code",
   "execution_count": 3,
   "id": "a9819234-d2a6-4ffb-afa9-baa6d67f556e",
   "metadata": {},
   "outputs": [
    {
     "data": {
      "text/plain": [
       "'Prathmesh Wavge'"
      ]
     },
     "execution_count": 3,
     "metadata": {},
     "output_type": "execute_result"
    }
   ],
   "source": [
    "a"
   ]
  },
  {
   "cell_type": "code",
   "execution_count": 4,
   "id": "a6d4d2fe-59fb-4cc3-83b7-fdc42689104b",
   "metadata": {},
   "outputs": [
    {
     "name": "stdout",
     "output_type": "stream",
     "text": [
      "15\n"
     ]
    }
   ],
   "source": [
    "a=5\n",
    "b=10\n",
    "c=a+b\n",
    "print(c)"
   ]
  },
  {
   "cell_type": "code",
   "execution_count": 5,
   "id": "0de23e09-065f-4615-82a2-725fab39aeea",
   "metadata": {},
   "outputs": [
    {
     "data": {
      "text/plain": [
       "int"
      ]
     },
     "execution_count": 5,
     "metadata": {},
     "output_type": "execute_result"
    }
   ],
   "source": [
    "type(a)"
   ]
  },
  {
   "cell_type": "code",
   "execution_count": 6,
   "id": "3e258805-1b1f-47ee-82c0-1f2ccd573432",
   "metadata": {},
   "outputs": [
    {
     "name": "stdout",
     "output_type": "stream",
     "text": [
      "15\n",
      "-5\n",
      "50\n",
      "0.5\n"
     ]
    }
   ],
   "source": [
    "a=5\n",
    "b=10\n",
    "c=a+b\n",
    "d=a-b\n",
    "e=a*b\n",
    "f=a/b\n",
    "print(c)\n",
    "print(d)\n",
    "print(e)\n",
    "print(f)"
   ]
  },
  {
   "cell_type": "code",
   "execution_count": 7,
   "id": "bc30b857-95d2-4307-b142-7e8f036e3a2e",
   "metadata": {},
   "outputs": [
    {
     "data": {
      "text/plain": [
       "False"
      ]
     },
     "execution_count": 7,
     "metadata": {},
     "output_type": "execute_result"
    }
   ],
   "source": [
    "a==10"
   ]
  },
  {
   "cell_type": "code",
   "execution_count": 8,
   "id": "2390a417-34ad-41b0-b792-d827c5d7ac46",
   "metadata": {},
   "outputs": [
    {
     "data": {
      "text/plain": [
       "True"
      ]
     },
     "execution_count": 8,
     "metadata": {},
     "output_type": "execute_result"
    }
   ],
   "source": [
    "a==5"
   ]
  },
  {
   "cell_type": "code",
   "execution_count": 9,
   "id": "c37c6095-d45c-4093-b4f1-878315c40da5",
   "metadata": {},
   "outputs": [],
   "source": [
    "a=\"Prathmesh\""
   ]
  },
  {
   "cell_type": "code",
   "execution_count": 10,
   "id": "5be2ef5d-c1a6-43ef-bbe7-db11f8a763a6",
   "metadata": {},
   "outputs": [
    {
     "data": {
      "text/plain": [
       "str"
      ]
     },
     "execution_count": 10,
     "metadata": {},
     "output_type": "execute_result"
    }
   ],
   "source": [
    "type(a)"
   ]
  },
  {
   "cell_type": "code",
   "execution_count": null,
   "id": "65fa606f-2020-4cb8-b0d8-b47232094e88",
   "metadata": {},
   "outputs": [],
   "source": []
  }
 ],
 "metadata": {
  "kernelspec": {
   "display_name": "Python 3 (ipykernel)",
   "language": "python",
   "name": "python3"
  },
  "language_info": {
   "codemirror_mode": {
    "name": "ipython",
    "version": 3
   },
   "file_extension": ".py",
   "mimetype": "text/x-python",
   "name": "python",
   "nbconvert_exporter": "python",
   "pygments_lexer": "ipython3",
   "version": "3.12.4"
  }
 },
 "nbformat": 4,
 "nbformat_minor": 5
}
